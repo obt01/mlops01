{
 "cells": [
  {
   "cell_type": "code",
   "execution_count": 65,
   "metadata": {},
   "outputs": [
    {
     "name": "stdout",
     "output_type": "stream",
     "text": [
      "{'connection': Redis<ConnectionPool<Connection<host=redis,port=6379,db=0>>>, '_id': '4218b686-ea77-4c5b-9777-02338548fab6', 'created_at': datetime.datetime(2022, 3, 20, 9, 11, 42, 885505), '_data': b'\\x80\\x05\\x95\\x0e\\x00\\x00\\x00\\x00\\x00\\x00\\x00(\\x8c\\x03abc\\x94N)}\\x94t\\x94.', '_func_name': 'abc', '_instance': None, '_args': (), '_kwargs': {}, '_success_callback_name': None, '_success_callback': <object object at 0x7fcbf0742740>, '_failure_callback_name': None, '_failure_callback': <object object at 0x7fcbf0742740>, 'description': 'abc()', 'origin': 'default', 'enqueued_at': datetime.datetime(2022, 3, 20, 9, 11, 42, 885828), 'started_at': None, 'ended_at': None, '_result': None, 'exc_info': None, 'timeout': 180, 'result_ttl': None, 'failure_ttl': None, 'ttl': 10, 'worker_name': None, '_status': <JobStatus.QUEUED: 'queued'>, '_dependency_ids': [], 'meta': {}, 'serializer': <class 'rq.serializers.DefaultSerializer'>, 'retries_left': None, 'retry_intervals': None, 'redis_server_version': (6, 2, 6), 'last_heartbeat': None}\n"
     ]
    }
   ],
   "source": [
    "import json\n",
    "import redis\n",
    "from rq import Queue\n",
    "\n",
    "redis_client = redis.Redis(\n",
    "    host=\"redis\",\n",
    "    port=6379,\n",
    ")\n",
    "\n",
    "q = Queue(connection=redis_client)\n",
    "\n",
    "job = q.enqueue(\"abc\", ttl=10)\n",
    "print(vars(job))"
   ]
  },
  {
   "cell_type": "code",
   "execution_count": null,
   "metadata": {},
   "outputs": [],
   "source": [
    "import json\n",
    "import redis\n",
    "\n",
    "redis_client = redis.Redis(\n",
    "    host=\"redis\",\n",
    "    port=6379,\n",
    ")\n",
    "\n",
    "redis_client"
   ]
  },
  {
   "cell_type": "code",
   "execution_count": 93,
   "metadata": {},
   "outputs": [
    {
     "name": "stdout",
     "output_type": "stream",
     "text": [
      "6431\n"
     ]
    },
    {
     "data": {
      "text/plain": [
       "True"
      ]
     },
     "execution_count": 93,
     "metadata": {},
     "output_type": "execute_result"
    }
   ],
   "source": [
    "import io\n",
    "from PIL import Image\n",
    "\n",
    "\n",
    "img_path = \"../../data/bobby.jpg\"\n",
    "\n",
    "def image_to_byte_array(image: Image, image_format: str):\n",
    "  imgByteArr = io.BytesIO()\n",
    "  image.save(imgByteArr, format=image_format)\n",
    "  imgByteArr = imgByteArr.getvalue()\n",
    "  return imgByteArr\n",
    "\n",
    "with Image.open(img_path) as img:\n",
    "    resized_img = img.resize((224, 224))\n",
    "    img_bytes = image_to_byte_array(resized_img, img.format)\n",
    "    print(len(img_bytes))\n",
    "redis_client.set(img_bytes, \"predict result\")"
   ]
  },
  {
   "cell_type": "code",
   "execution_count": 104,
   "metadata": {},
   "outputs": [],
   "source": [
    "for i in range(10000):\n",
    "    key = str(img_bytes) + str(i)\n",
    "    redis_client.set(key, f\"test_{i}\")\n",
    "\n",
    "test_key = str(img_bytes) + str(3000)"
   ]
  },
  {
   "cell_type": "code",
   "execution_count": 105,
   "metadata": {},
   "outputs": [
    {
     "name": "stdout",
     "output_type": "stream",
     "text": [
      "288 µs ± 31.1 µs per loop (mean ± std. dev. of 7 runs, 1,000 loops each)\n"
     ]
    }
   ],
   "source": [
    "%%timeit\n",
    "redis_client.get(test_key)"
   ]
  },
  {
   "cell_type": "code",
   "execution_count": 106,
   "metadata": {},
   "outputs": [
    {
     "data": {
      "text/plain": [
       "b'test_3000'"
      ]
     },
     "execution_count": 106,
     "metadata": {},
     "output_type": "execute_result"
    }
   ],
   "source": [
    "redis_client.get(test_key)"
   ]
  },
  {
   "cell_type": "code",
   "execution_count": 80,
   "metadata": {},
   "outputs": [
    {
     "data": {
      "text/plain": [
       "['__class__',\n",
       " '__del__',\n",
       " '__delattr__',\n",
       " '__dict__',\n",
       " '__dir__',\n",
       " '__doc__',\n",
       " '__enter__',\n",
       " '__eq__',\n",
       " '__exit__',\n",
       " '__format__',\n",
       " '__ge__',\n",
       " '__getattribute__',\n",
       " '__getstate__',\n",
       " '__gt__',\n",
       " '__hash__',\n",
       " '__init__',\n",
       " '__init_subclass__',\n",
       " '__iter__',\n",
       " '__le__',\n",
       " '__lt__',\n",
       " '__ne__',\n",
       " '__new__',\n",
       " '__next__',\n",
       " '__reduce__',\n",
       " '__reduce_ex__',\n",
       " '__repr__',\n",
       " '__setattr__',\n",
       " '__setstate__',\n",
       " '__sizeof__',\n",
       " '__str__',\n",
       " '__subclasshook__',\n",
       " '_checkClosed',\n",
       " '_checkReadable',\n",
       " '_checkSeekable',\n",
       " '_checkWritable',\n",
       " 'close',\n",
       " 'closed',\n",
       " 'detach',\n",
       " 'fileno',\n",
       " 'flush',\n",
       " 'getbuffer',\n",
       " 'getvalue',\n",
       " 'isatty',\n",
       " 'read',\n",
       " 'read1',\n",
       " 'readable',\n",
       " 'readinto',\n",
       " 'readinto1',\n",
       " 'readline',\n",
       " 'readlines',\n",
       " 'seek',\n",
       " 'seekable',\n",
       " 'tell',\n",
       " 'truncate',\n",
       " 'writable',\n",
       " 'write',\n",
       " 'writelines']"
      ]
     },
     "execution_count": 80,
     "metadata": {},
     "output_type": "execute_result"
    }
   ],
   "source": [
    "i = io.BytesIO()\n",
    "dir(i)"
   ]
  },
  {
   "cell_type": "code",
   "execution_count": 54,
   "metadata": {},
   "outputs": [],
   "source": [
    "redis_client.get(\"abcde\")"
   ]
  },
  {
   "cell_type": "code",
   "execution_count": 34,
   "metadata": {},
   "outputs": [
    {
     "data": {
      "text/plain": [
       "True"
      ]
     },
     "execution_count": 34,
     "metadata": {},
     "output_type": "execute_result"
    }
   ],
   "source": [
    "redis_client.set(1, 'test1')"
   ]
  },
  {
   "cell_type": "code",
   "execution_count": 36,
   "metadata": {},
   "outputs": [
    {
     "data": {
      "text/plain": [
       "b'test1'"
      ]
     },
     "execution_count": 36,
     "metadata": {},
     "output_type": "execute_result"
    }
   ],
   "source": [
    "value = redis_client.get(1)\n",
    "value"
   ]
  },
  {
   "cell_type": "code",
   "execution_count": 6,
   "metadata": {},
   "outputs": [],
   "source": [
    "from pydantic import BaseModel, Field, validator\n",
    "from typing import Optional"
   ]
  },
  {
   "cell_type": "code",
   "execution_count": 30,
   "metadata": {},
   "outputs": [],
   "source": [
    "class Hoge(BaseModel):\n",
    "    hoge: int\n",
    "\n",
    "    @validator(\"hoge\", pre=True)                # hogeのバリデーションの登録 \n",
    "    def validate_hoge(cls, value):    # 関数名はなんでもいい。第1引数はcls固定で使用しない。第2引数はvalueでhogeに設定した値\n",
    "        if isinstance(value, float):             # Noneであれば例外を投げる\n",
    "            raise TypeError(\"none is not an allowed value\") \n",
    "        return value                  # Noneでない場合はそのままvalueを返す"
   ]
  },
  {
   "cell_type": "code",
   "execution_count": 31,
   "metadata": {},
   "outputs": [
    {
     "ename": "ValidationError",
     "evalue": "1 validation error for Hoge\nhoge\n  none is not an allowed value (type=type_error)",
     "output_type": "error",
     "traceback": [
      "\u001b[0;31m---------------------------------------------------------------------------\u001b[0m",
      "\u001b[0;31mValidationError\u001b[0m                           Traceback (most recent call last)",
      "\u001b[1;32m/app/src/cache/redis_test.ipynb Cell 3'\u001b[0m in \u001b[0;36m<cell line: 1>\u001b[0;34m()\u001b[0m\n\u001b[0;32m----> <a href='vscode-notebook-cell://attached-container%2B7b22636f6e7461696e65724e616d65223a222f70726f7879227d/app/src/cache/redis_test.ipynb#ch0000002vscode-remote?line=0'>1</a>\u001b[0m Hoge(hoge \u001b[39m=\u001b[39;49m \u001b[39m2.5\u001b[39;49m)\n",
      "File \u001b[0;32m/usr/local/lib/python3.9/site-packages/pydantic/main.py:331\u001b[0m, in \u001b[0;36mpydantic.main.BaseModel.__init__\u001b[0;34m()\u001b[0m\n",
      "\u001b[0;31mValidationError\u001b[0m: 1 validation error for Hoge\nhoge\n  none is not an allowed value (type=type_error)"
     ]
    }
   ],
   "source": [
    "Hoge(hoge = 2.5)"
   ]
  },
  {
   "cell_type": "code",
   "execution_count": 9,
   "metadata": {},
   "outputs": [
    {
     "data": {
      "text/plain": [
       "'test'"
      ]
     },
     "execution_count": 9,
     "metadata": {},
     "output_type": "execute_result"
    }
   ],
   "source": [
    "Hoge.hoge"
   ]
  },
  {
   "cell_type": "code",
   "execution_count": null,
   "metadata": {},
   "outputs": [],
   "source": []
  }
 ],
 "metadata": {
  "interpreter": {
   "hash": "949777d72b0d2535278d3dc13498b2535136f6dfe0678499012e853ee9abcab1"
  },
  "kernelspec": {
   "display_name": "Python 3.9.11 64-bit",
   "language": "python",
   "name": "python3"
  },
  "language_info": {
   "codemirror_mode": {
    "name": "ipython",
    "version": 3
   },
   "file_extension": ".py",
   "mimetype": "text/x-python",
   "name": "python",
   "nbconvert_exporter": "python",
   "pygments_lexer": "ipython3",
   "version": "3.9.11"
  },
  "orig_nbformat": 4
 },
 "nbformat": 4,
 "nbformat_minor": 2
}
