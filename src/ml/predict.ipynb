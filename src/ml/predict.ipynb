{
 "cells": [
  {
   "cell_type": "code",
   "execution_count": null,
   "metadata": {},
   "outputs": [],
   "source": [
    "from src.prediction import ImageClassifier\n",
    "from src.proto import onnx_ml_pb2, predict_pb2, prediction_service_pb2_grpc"
   ]
  },
  {
   "cell_type": "code",
   "execution_count": 16,
   "metadata": {},
   "outputs": [
    {
     "name": "stdout",
     "output_type": "stream",
     "text": [
      "{'golden retriever': 0.5910173058509827}\n"
     ]
    }
   ],
   "source": []
  },
  {
   "cell_type": "code",
   "execution_count": null,
   "metadata": {},
   "outputs": [],
   "source": [
    "curl  -X POST -d \"@predict_request_0.json\" -H \"Content-Type: application/json\" http://127.0.0.1:8001/v1/models/resnet101/versions/1:predict\n",
    "curl -X POST --data-binary \"@predict_request_0.pb\" -H \"Content-Type: application/octet-stream\" -H \"Foo: 1234\"  http://127.0.0.1:8001/v1/models/resnet101/versions/1:predict"
   ]
  }
 ],
 "metadata": {
  "interpreter": {
   "hash": "949777d72b0d2535278d3dc13498b2535136f6dfe0678499012e853ee9abcab1"
  },
  "kernelspec": {
   "display_name": "Python 3.10.0 64-bit",
   "language": "python",
   "name": "python3"
  },
  "language_info": {
   "codemirror_mode": {
    "name": "ipython",
    "version": 3
   },
   "file_extension": ".py",
   "mimetype": "text/x-python",
   "name": "python",
   "nbconvert_exporter": "python",
   "pygments_lexer": "ipython3",
   "version": "3.10.2"
  },
  "orig_nbformat": 4
 },
 "nbformat": 4,
 "nbformat_minor": 2
}
